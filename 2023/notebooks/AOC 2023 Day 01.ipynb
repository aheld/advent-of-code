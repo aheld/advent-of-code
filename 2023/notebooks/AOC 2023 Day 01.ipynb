{
 "cells": [
  {
   "cell_type": "code",
   "execution_count": 5,
   "id": "47096038",
   "metadata": {},
   "outputs": [
    {
     "data": {
      "text/plain": [
       "['1abc2\\n', 'pqr3stu8vwx\\n', 'a1b2c3d4e5f\\n', 'treb7uchet']"
      ]
     },
     "execution_count": 5,
     "metadata": {},
     "output_type": "execute_result"
    }
   ],
   "source": [
    "input_file='../day01/input_test'\n",
    "input = open(input_file).readlines()\n",
    "input"
   ]
  },
  {
   "cell_type": "code",
   "execution_count": 18,
   "id": "35f2a607",
   "metadata": {},
   "outputs": [
    {
     "name": "stdout",
     "output_type": "stream",
     "text": [
      "1abc2\n",
      "['1', '2']\n",
      "12\n",
      "pqr3stu8vwx\n",
      "['3', '8']\n",
      "38\n",
      "a1b2c3d4e5f\n",
      "['1', '2', '3', '4', '5']\n",
      "15\n",
      "treb7uchet\n",
      "['7']\n",
      "77\n",
      "142\n"
     ]
    }
   ],
   "source": [
    "import re\n",
    "total = 0 \n",
    "for line in input:\n",
    "    l = line.strip()\n",
    "    m = re.findall('(\\d)', l)\n",
    "    print(l)\n",
    "    print(m)\n",
    "    str_num = m[0]+m[-1]\n",
    "    print(str_num)\n",
    "    total += int(str_num)\n",
    "print(total)"
   ]
  },
  {
   "cell_type": "code",
   "execution_count": null,
   "id": "df5f5374",
   "metadata": {},
   "outputs": [],
   "source": []
  }
 ],
 "metadata": {
  "kernelspec": {
   "display_name": "Python 3 (ipykernel)",
   "language": "python",
   "name": "python3"
  },
  "language_info": {
   "codemirror_mode": {
    "name": "ipython",
    "version": 3
   },
   "file_extension": ".py",
   "mimetype": "text/x-python",
   "name": "python",
   "nbconvert_exporter": "python",
   "pygments_lexer": "ipython3",
   "version": "3.9.13"
  }
 },
 "nbformat": 4,
 "nbformat_minor": 5
}
