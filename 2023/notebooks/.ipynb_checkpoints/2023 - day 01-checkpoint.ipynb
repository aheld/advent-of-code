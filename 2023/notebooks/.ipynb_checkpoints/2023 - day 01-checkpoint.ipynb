{
 "cells": [
  {
   "cell_type": "code",
   "execution_count": 6,
   "id": "ccf42fab",
   "metadata": {},
   "outputs": [],
   "source": [
    "input_file='../day01/input_test'\n",
    "input = open(input_file).readlines()"
   ]
  },
  {
   "cell_type": "code",
   "execution_count": 21,
   "id": "39779b58",
   "metadata": {},
   "outputs": [
    {
     "name": "stdout",
     "output_type": "stream",
     "text": [
      "12\n",
      "38\n",
      "15\n",
      "77\n",
      "142\n"
     ]
    }
   ],
   "source": [
    "import re\n",
    "\n",
    "total = 0\n",
    "for line in input:\n",
    "#     print(line.strip())\n",
    "    m = re.findall('(\\d)', line.strip())\n",
    "    num = m[0]+m[-1]\n",
    "    print(line, num)\n",
    "    total += int(num)\n",
    "\n",
    "print(total)\n",
    "    "
   ]
  },
  {
   "cell_type": "code",
   "execution_count": null,
   "id": "a14ce0a4",
   "metadata": {},
   "outputs": [],
   "source": []
  }
 ],
 "metadata": {
  "kernelspec": {
   "display_name": "Python 3 (ipykernel)",
   "language": "python",
   "name": "python3"
  },
  "language_info": {
   "codemirror_mode": {
    "name": "ipython",
    "version": 3
   },
   "file_extension": ".py",
   "mimetype": "text/x-python",
   "name": "python",
   "nbconvert_exporter": "python",
   "pygments_lexer": "ipython3",
   "version": "3.9.13"
  }
 },
 "nbformat": 4,
 "nbformat_minor": 5
}
